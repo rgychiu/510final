{
  "nbformat": 4,
  "nbformat_minor": 0,
  "metadata": {
    "colab": {
      "name": "script_web_scraping.ipynb",
      "provenance": []
    },
    "kernelspec": {
      "name": "python3",
      "display_name": "Python 3"
    },
    "language_info": {
      "name": "python"
    }
  },
  "cells": [
    {
      "cell_type": "code",
      "metadata": {
        "colab": {
          "base_uri": "https://localhost:8080/"
        },
        "id": "T7ZutpD3iqab",
        "outputId": "4d6476f9-9ba1-4146-8ce5-d029909f524a"
      },
      "source": [
        "!pip install beautifulsoup4"
      ],
      "execution_count": null,
      "outputs": [
        {
          "output_type": "stream",
          "text": [
            "Requirement already satisfied: beautifulsoup4 in /usr/local/lib/python3.7/dist-packages (4.6.3)\n"
          ],
          "name": "stdout"
        }
      ]
    },
    {
      "cell_type": "code",
      "metadata": {
        "id": "nP3XzTYiivBo"
      },
      "source": [
        "from bs4 import BeautifulSoup\n",
        "import urllib\n",
        "import numpy as np\n",
        "import pickle"
      ],
      "execution_count": null,
      "outputs": []
    },
    {
      "cell_type": "code",
      "metadata": {
        "colab": {
          "base_uri": "https://localhost:8080/"
        },
        "id": "HjUK1xCJ4AsN",
        "outputId": "2979b8c4-24da-42fb-b26e-9d240dcf7dcf"
      },
      "source": [
        "import os\n",
        "from google.colab import drive\n",
        "drive.mount('/content/drive')"
      ],
      "execution_count": null,
      "outputs": [
        {
          "output_type": "stream",
          "text": [
            "Mounted at /content/drive\n"
          ],
          "name": "stdout"
        }
      ]
    },
    {
      "cell_type": "code",
      "metadata": {
        "id": "fIzn4gEg4F4g"
      },
      "source": [
        "os.chdir(\"/content/drive/My Drive/Colab Notebooks/scripts\")"
      ],
      "execution_count": null,
      "outputs": []
    },
    {
      "cell_type": "markdown",
      "metadata": {
        "id": "MJdKFxmNxJ5e"
      },
      "source": [
        "Get Scripts\n"
      ]
    },
    {
      "cell_type": "code",
      "metadata": {
        "id": "JwsFGQ8VmVva"
      },
      "source": [
        "url = \"https://imsdb.com/all-scripts.html\"\n",
        "request = urllib.request.Request(url)\n",
        "result = urllib.request.urlopen(request)\n",
        "\n",
        "list_soup = BeautifulSoup(result.read(), 'html.parser')\n",
        "links = list_soup.find_all('a', href = True)\n",
        "\n",
        "movie_urls = []\n",
        "movie_titles = []\n",
        "for movie in links:\n",
        "  if movie[\"href\"][-11:] == \"Script.html\":\n",
        "    movie_urls.append( \"https://imsdb.com/scripts/\" + movie['href'][15:-12].replace(\" \", \"-\") + \".html\")\n",
        "    movie_titles.append(movie['href'][15:-12].replace(\" \", \"-\"))\n",
        "\n",
        "movie_urls = np.array(movie_urls)\n",
        "movie_titles = np.array(movie_titles)"
      ],
      "execution_count": null,
      "outputs": []
    },
    {
      "cell_type": "code",
      "metadata": {
        "id": "FB4-cOmNr1HR"
      },
      "source": [
        "random_idx = np.random.choice(len(movie_urls), 100, replace = False)\n",
        "random_movies_urls = movie_urls[random_idx]\n",
        "random_movies_titles = movie_titles[random_idx]"
      ],
      "execution_count": null,
      "outputs": []
    },
    {
      "cell_type": "code",
      "metadata": {
        "colab": {
          "base_uri": "https://localhost:8080/"
        },
        "id": "VFDDMwUgzwpm",
        "outputId": "da0aa804-e680-4db9-81d7-cee02dc42007"
      },
      "source": [
        "scripts = []\n",
        "for url in random_movies_urls:\n",
        "  try:\n",
        "    request = urllib.request.Request(url)\n",
        "    result = urllib.request.urlopen(request)\n",
        "\n",
        "    movie_soup = BeautifulSoup(result.read(), 'html.parser')\n",
        "    source = movie_soup.find_all(\"td\", class_ = \"scrtext\")[0]\n",
        "    if source.pre is not None:\n",
        "      scripts.append(source.pre.get_text())\n",
        "  except:\n",
        "    print(\"Failed to parse script\")"
      ],
      "execution_count": null,
      "outputs": [
        {
          "output_type": "stream",
          "text": [
            "Failed to parse script\n",
            "Failed to parse script\n",
            "Failed to parse script\n"
          ],
          "name": "stdout"
        }
      ]
    },
    {
      "cell_type": "code",
      "metadata": {
        "id": "JQ-1-XR42x4B"
      },
      "source": [
        "for title, script in zip(random_movies_titles, scripts):\n",
        "  with open(title + \".txt\", \"w\") as script_file:\n",
        "    if (len(script) > 100):\n",
        "      script_file.write(script)"
      ],
      "execution_count": null,
      "outputs": []
    },
    {
      "cell_type": "markdown",
      "metadata": {
        "id": "zHLWpcQpa2_o"
      },
      "source": [
        "Get Images for Movies"
      ]
    },
    {
      "cell_type": "code",
      "metadata": {
        "id": "InAUb9KcTFrq"
      },
      "source": [
        "# https://imsdb.com/Movie%20Scripts/17%20Again%20Script.html\n",
        "titles = []\n",
        "urls = []\n",
        "for file in os.listdir():\n",
        "  if file[-4:] == \".txt\":\n",
        "    titles.append(file[:-4].replace(\"-\", \" \"))\n",
        "    movie_name = file[:-4].replace(\"-\", \"%20\")\n",
        "    url = \"https://imsdb.com/Movie%20Scripts/\"+ movie_name + \"%20Script.html\"\n",
        "    urls.append(url)\n",
        "\n",
        "image_links = {}\n",
        "for url, title in zip(urls, titles):\n",
        "  request = urllib.request.Request(url)\n",
        "  result = urllib.request.urlopen(request)\n",
        "\n",
        "  script_soup = BeautifulSoup(result.read(), 'html.parser')\n",
        "  img = script_soup.find_all(\"img\", class_=\"avimg\")\n",
        "  \n",
        "  if len(img) > 0:\n",
        "    image_links[title] = img[0]['src']\n",
        "  else:\n",
        "    image_links[title] = \"/images/no-poster.gif\""
      ],
      "execution_count": null,
      "outputs": []
    },
    {
      "cell_type": "code",
      "metadata": {
        "id": "owN6IwaLbAOD"
      },
      "source": [
        "with open('image_dict.pickle', 'wb') as handle:\n",
        "    pickle.dump(image_links, handle)"
      ],
      "execution_count": null,
      "outputs": []
    },
    {
      "cell_type": "markdown",
      "metadata": {
        "id": "aMCakA04xD1W"
      },
      "source": [
        "Get Release Dates and Genres"
      ]
    },
    {
      "cell_type": "code",
      "metadata": {
        "colab": {
          "base_uri": "https://localhost:8080/"
        },
        "id": "yizDYiGDizj3",
        "outputId": "1c6e33ce-9eff-43ea-f673-c7a26fd055c2"
      },
      "source": [
        "correct_titles = []\n",
        "urls = []\n",
        "for file in os.listdir():\n",
        "  if file[-4:] == \".txt\":\n",
        "    movie_name = file[:-4].replace(\"-\", \"%20\")\n",
        "    correct_titles.append(file[:-4].replace(\"-\", \" \"))\n",
        "    url = \"https://imsdb.com/Movie%20Scripts/\"+ movie_name + \"%20Script.html\"\n",
        "    urls.append(url)\n",
        "\n",
        "movie_tags = {}\n",
        "for url, title in zip(urls, correct_titles):\n",
        "  request = urllib.request.Request(url)\n",
        "  result = urllib.request.urlopen(request)\n",
        "\n",
        "  script_soup = BeautifulSoup(result.read(), 'html.parser')\n",
        "\n",
        "  script_table = script_soup.find_all(\"table\", class_ = \"script-details\")[0]\n",
        "\n",
        "  genres = []\n",
        "  release_date = \"\"\n",
        "  for tag in script_table.find_all(\"a\"):\n",
        "    if tag.has_attr(\"href\") and tag.get(\"href\")[:7] == \"/genre/\":\n",
        "      genres.append(tag.get(\"href\")[7:])\n",
        "\n",
        "  try:\n",
        "    release_index = script_table.get_text().find(\"Movie Release Date : \") + len(\"Movie Release Date : \")\n",
        "    release_date = script_table.get_text()[release_index:].split(\"\\n\")[0]\n",
        "\n",
        "    if release_date[-4:-2] != \"20\" and release_date[-4:-2] != \"19\":\n",
        "      release_date = \"Release Date Not Found\"\n",
        "  except:\n",
        "    release_date = \"Release Date Not Found\"\n",
        "  \n",
        "  movie_tags[title] = (genres, release_date)\n",
        "\n",
        "print(movie_tags)"
      ],
      "execution_count": null,
      "outputs": [
        {
          "output_type": "stream",
          "text": [
            "{'Honeydripper': (['Drama', 'Musical'], 'December 2007'), 'Colombiana': (['Action', 'Crime', 'Drama'], 'August 2011'), 'Addams Family, The': (['Comedy', 'Fantasy', 'Horror', 'Family'], 'November 1991'), 'Mighty Morphin Power Rangers: The Movie': (['Family', 'Action'], 'June 1995'), 'Above the Law': (['Action'], 'Release Date Not Found'), 'Law Abiding Citizen': (['Crime', 'Drama', 'Thriller'], 'October 2009'), 'Sweet Smell of Success': (['Drama', 'Film-Noir'], 'Release Date Not Found'), 'Omega Man': (['Drama', 'Sci-Fi', 'Thriller'], 'Release Date Not Found'), 'Star Wars: The Phantom Menace': (['Sci-Fi', 'Adventure', 'Action', 'Fantasy'], 'Release Date Not Found'), 'Semi Pro': ([''], 'Release Date Not Found'), 'Wrestler, The': (['Drama'], 'January 2009'), 'Black Rain': (['Action', 'Crime', 'Drama'], 'Release Date Not Found'), 'Lake Placid': (['Action', 'Comedy', 'Horror', 'Thriller'], 'July 1999'), 'Meet Joe Black': (['Fantasy', 'Mystery', 'Romance', 'Drama'], 'Release Date Not Found'), 'White Ribbon, The': (['Crime', 'Drama', 'Mystery'], 'December 2009'), 'Troy': (['Action', 'War'], 'May 2004'), 'I Spit on Your Grave': (['Crime', 'Horror', 'Thriller'], 'May 2010'), 'Passion of Joan of Arc, The': (['Drama'], 'March 1929'), 'Executive Decision': (['Action', 'Adventure', 'Thriller'], 'Release Date Not Found'), 'Mud': (['Drama'], 'May 2013'), 'Three Kings': (['Action', 'Adventure', 'War'], 'Release Date Not Found'), 'Deer Hunter, The': (['Drama', 'War'], 'Release Date Not Found'), 'Boondock Saints, The': (['Crime', 'Drama', 'Thriller'], 'January 2000'), 'Fifth Element, The': (['Action', 'Comedy', 'Drama', 'Fantasy', 'Romance', 'Sci-Fi'], 'Release Date Not Found'), 'Wonder Woman': (['Action', 'Adventure', 'Fantasy'], 'June 2017'), 'Guardians of the Galaxy Vol 2': (['Action', 'Adventure', 'Comedy'], 'May 2017'), 'Innerspace': (['Action', 'Adventure', 'Comedy', 'Sci-Fi'], 'Release Date Not Found'), 'American Milkshake': (['Comedy'], 'January 2013'), 'Man on the Moon': (['Comedy', 'Drama'], 'Release Date Not Found'), 'No Strings Attached': (['Comedy', 'Romance'], 'January 2011'), 'Joker': (['Crime', 'Drama', 'Thriller'], 'October 2019'), 'Rocky Horror Picture Show, The': (['Comedy', 'Horror', 'Musical', 'Sci-Fi'], 'Release Date Not Found'), 'Platoon': (['Action', 'Drama', 'War'], 'Release Date Not Found'), 'Iron Lady, The': (['Drama'], 'January 2012'), 'Elephant Man, The': (['Drama'], 'October 1980'), 'Croods, The': (['Animation', 'Adventure', 'Comedy'], 'March 2013'), 'Christ Complex': (['Comedy', 'Fantasy'], 'October 2012'), 'Six Degrees of Separation': (['Comedy', 'Drama', 'Mystery'], 'December 1993'), 'Highlander': (['Action', 'Fantasy'], 'Release Date Not Found'), 'Cincinnati Kid, The': (['Drama'], 'October 1965'), 'Deep Cover': (['Action', 'Crime', 'Thriller'], 'April 1992'), 'Analyze That': (['Comedy', 'Crime'], 'Release Date Not Found'), 'Bringing Out the Dead': (['Drama'], 'Release Date Not Found'), 'Sixth Sense, The': (['Drama', 'Horror', 'Mystery', 'Thriller'], 'Release Date Not Found'), 'Ghost Ship': (['Action', 'Adventure', 'Horror', 'Thriller', 'Sci-Fi'], 'Release Date Not Found'), 'Bean': (['Comedy'], 'Release Date Not Found'), '12 and Holding': (['Drama'], 'May 2006'), 'South Park': (['Animation', 'Comedy', 'Musical'], 'Release Date Not Found'), 'Funny People': (['Comedy', 'Drama'], 'July 2009'), 'Fruitvale Station': (['Drama'], 'July 2013'), 'Feast': (['Action', 'Comedy', 'Horror', 'Thriller'], 'September 2006'), 'Moonrise Kingdom': (['Comedy', 'Drama', 'Romance'], 'June 2012'), 'Gone Baby Gone': (['Crime', 'Drama', 'Mystery'], 'October 2007'), 'Backdraft': (['Action', 'Drama', 'Mystery', 'Thriller'], 'Release Date Not Found'), 'True Grit': (['Adventure', 'Drama', 'Western'], 'December 2010'), 'Life As A House': (['Comedy', 'Drama'], 'Release Date Not Found'), 'Taxi Driver': (['Crime', 'Drama', 'Thriller'], 'Release Date Not Found'), 'Wag the Dog': (['Comedy'], 'Release Date Not Found'), 'Avengers, The': (['Action', 'Adventure'], 'Release Date Not Found'), 'Real Genius': (['Comedy'], 'Release Date Not Found'), 'Searchers, The': (['Drama', 'Western'], 'Release Date Not Found'), 'Indiana Jones and the Raiders of the Lost Ark': (['Action', 'Adventure'], 'Release Date Not Found'), 'Spider Man': ([''], 'Release Date Not Found'), 'Copycat': (['Crime', 'Horror', 'Mystery', 'Thriller'], 'Release Date Not Found'), 'Bad Country': (['Action', 'Crime', 'Drama'], 'April 2014'), 'Syriana': (['Drama', 'Thriller'], 'December 2005'), '15 Minutes': (['Action', 'Crime', 'Thriller'], 'Release Date Not Found'), 'Shallow Grave': (['Comedy', 'Crime', 'Drama', 'Thriller'], 'February 1995'), 'Rushmore': (['Comedy', 'Romance'], 'Release Date Not Found'), 'Silence of the Lambs': (['Crime', 'Drama', 'Horror', 'Thriller'], 'Release Date Not Found'), 'Descendants, The': (['Comedy', 'Drama'], 'December 2011'), 'American Shaolin: King of Kickboxers II': (['Action'], 'Release Date Not Found'), 'Drive Angry': (['Action', 'Crime', 'Fantasy'], 'February 2011'), \"Jacob's Ladder\": (['Drama', 'Thriller'], 'Release Date Not Found'), 'Drive': (['Action', 'Crime', 'Drama'], 'September 2011'), 'Pretty Woman': (['Comedy', 'Romance'], 'Release Date Not Found'), 'Martian, The': (['Adventure', 'Drama', 'Sci-Fi'], 'October 2015'), 'English Patient, The': (['Drama', 'Romance'], 'Release Date Not Found'), 'Hannah and Her Sisters': (['Comedy', 'Drama', 'Romance'], 'Release Date Not Found'), 'Ghost and the Darkness, The': (['Action', 'Adventure', 'Drama', 'Thriller'], 'Release Date Not Found'), 'Neverending Story, The': (['Fantasy', 'Adventure', 'Family'], 'Release Date Not Found'), 'Red Planet': (['Action', 'Sci-Fi', 'Thriller'], 'Release Date Not Found'), 'Youth in Revolt': (['Comedy', 'Drama', 'Romance'], 'January 2010'), 'Change Up, The': ([''], 'Release Date Not Found'), 'Ugly Truth, The': (['Comedy', 'Romance'], 'July 2009'), \"All the King's Men\": (['Drama'], 'November 1949'), 'Mask, The': (['Action', 'Comedy', 'Crime', 'Drama', 'Fantasy', 'Romance'], 'July 1994'), \"Mini's First Time\": (['Comedy', 'Crime', 'Drama'], 'June 2006'), '2012': (['Action', 'Adventure', 'Drama', 'Sci-Fi', 'Thriller'], 'November 2009'), 'Midnight Cowboy': (['Drama'], 'Release Date Not Found'), 'Dog Day Afternoon': (['Comedy', 'Drama', 'Thriller'], 'Release Date Not Found'), 'Walking Tall': (['Action', 'Drama', 'Thriller'], 'April 2004'), 'Starman': (['Adventure', 'Drama', 'Romance', 'Sci-Fi'], 'December 1984'), 'Great Gatsby, The': (['Drama', 'Romance'], 'May 2013'), 'Sweet Hereafter, The': (['Drama'], 'Release Date Not Found')}\n"
          ],
          "name": "stdout"
        }
      ]
    },
    {
      "cell_type": "code",
      "metadata": {
        "id": "bfbcUWWDmPRX"
      },
      "source": [
        "with open('tag_dict.pickle', 'wb') as handle:\n",
        "    pickle.dump(movie_tags, handle)"
      ],
      "execution_count": null,
      "outputs": []
    },
    {
      "cell_type": "code",
      "metadata": {
        "colab": {
          "base_uri": "https://localhost:8080/"
        },
        "id": "MWhI_Ki4oDxK",
        "outputId": "e2a82beb-d675-447c-fd5d-41679061926d"
      },
      "source": [
        "with open('tag_dict.pickle', 'rb') as handle:\n",
        "    tags = pickle.load(handle)\n",
        "print(tags)"
      ],
      "execution_count": null,
      "outputs": [
        {
          "output_type": "stream",
          "text": [
            "{'Honeydripper': (['Drama', 'Musical'], 'December 2007'), 'Colombiana': (['Action', 'Crime', 'Drama'], 'August 2011'), 'Addams Family, The': (['Comedy', 'Fantasy', 'Horror', 'Family'], 'November 1991'), 'Mighty Morphin Power Rangers: The Movie': (['Family', 'Action'], 'June 1995'), 'Above the Law': (['Action'], 'Release Date Not Found'), 'Law Abiding Citizen': (['Crime', 'Drama', 'Thriller'], 'October 2009'), 'Sweet Smell of Success': (['Drama', 'Film-Noir'], 'Release Date Not Found'), 'Omega Man': (['Drama', 'Sci-Fi', 'Thriller'], 'Release Date Not Found'), 'Star Wars: The Phantom Menace': (['Sci-Fi', 'Adventure', 'Action', 'Fantasy'], 'Release Date Not Found'), 'Semi Pro': ([''], 'Release Date Not Found'), 'Wrestler, The': (['Drama'], 'January 2009'), 'Black Rain': (['Action', 'Crime', 'Drama'], 'Release Date Not Found'), 'Lake Placid': (['Action', 'Comedy', 'Horror', 'Thriller'], 'July 1999'), 'Meet Joe Black': (['Fantasy', 'Mystery', 'Romance', 'Drama'], 'Release Date Not Found'), 'White Ribbon, The': (['Crime', 'Drama', 'Mystery'], 'December 2009'), 'Troy': (['Action', 'War'], 'May 2004'), 'I Spit on Your Grave': (['Crime', 'Horror', 'Thriller'], 'May 2010'), 'Passion of Joan of Arc, The': (['Drama'], 'March 1929'), 'Executive Decision': (['Action', 'Adventure', 'Thriller'], 'Release Date Not Found'), 'Mud': (['Drama'], 'May 2013'), 'Three Kings': (['Action', 'Adventure', 'War'], 'Release Date Not Found'), 'Deer Hunter, The': (['Drama', 'War'], 'Release Date Not Found'), 'Boondock Saints, The': (['Crime', 'Drama', 'Thriller'], 'January 2000'), 'Fifth Element, The': (['Action', 'Comedy', 'Drama', 'Fantasy', 'Romance', 'Sci-Fi'], 'Release Date Not Found'), 'Wonder Woman': (['Action', 'Adventure', 'Fantasy'], 'June 2017'), 'Guardians of the Galaxy Vol 2': (['Action', 'Adventure', 'Comedy'], 'May 2017'), 'Innerspace': (['Action', 'Adventure', 'Comedy', 'Sci-Fi'], 'Release Date Not Found'), 'American Milkshake': (['Comedy'], 'January 2013'), 'Man on the Moon': (['Comedy', 'Drama'], 'Release Date Not Found'), 'No Strings Attached': (['Comedy', 'Romance'], 'January 2011'), 'Joker': (['Crime', 'Drama', 'Thriller'], 'October 2019'), 'Rocky Horror Picture Show, The': (['Comedy', 'Horror', 'Musical', 'Sci-Fi'], 'Release Date Not Found'), 'Platoon': (['Action', 'Drama', 'War'], 'Release Date Not Found'), 'Iron Lady, The': (['Drama'], 'January 2012'), 'Elephant Man, The': (['Drama'], 'October 1980'), 'Croods, The': (['Animation', 'Adventure', 'Comedy'], 'March 2013'), 'Christ Complex': (['Comedy', 'Fantasy'], 'October 2012'), 'Six Degrees of Separation': (['Comedy', 'Drama', 'Mystery'], 'December 1993'), 'Highlander': (['Action', 'Fantasy'], 'Release Date Not Found'), 'Cincinnati Kid, The': (['Drama'], 'October 1965'), 'Deep Cover': (['Action', 'Crime', 'Thriller'], 'April 1992'), 'Analyze That': (['Comedy', 'Crime'], 'Release Date Not Found'), 'Bringing Out the Dead': (['Drama'], 'Release Date Not Found'), 'Sixth Sense, The': (['Drama', 'Horror', 'Mystery', 'Thriller'], 'Release Date Not Found'), 'Ghost Ship': (['Action', 'Adventure', 'Horror', 'Thriller', 'Sci-Fi'], 'Release Date Not Found'), 'Bean': (['Comedy'], 'Release Date Not Found'), '12 and Holding': (['Drama'], 'May 2006'), 'South Park': (['Animation', 'Comedy', 'Musical'], 'Release Date Not Found'), 'Funny People': (['Comedy', 'Drama'], 'July 2009'), 'Fruitvale Station': (['Drama'], 'July 2013'), 'Feast': (['Action', 'Comedy', 'Horror', 'Thriller'], 'September 2006'), 'Moonrise Kingdom': (['Comedy', 'Drama', 'Romance'], 'June 2012'), 'Gone Baby Gone': (['Crime', 'Drama', 'Mystery'], 'October 2007'), 'Backdraft': (['Action', 'Drama', 'Mystery', 'Thriller'], 'Release Date Not Found'), 'True Grit': (['Adventure', 'Drama', 'Western'], 'December 2010'), 'Life As A House': (['Comedy', 'Drama'], 'Release Date Not Found'), 'Taxi Driver': (['Crime', 'Drama', 'Thriller'], 'Release Date Not Found'), 'Wag the Dog': (['Comedy'], 'Release Date Not Found'), 'Avengers, The': (['Action', 'Adventure'], 'Release Date Not Found'), 'Real Genius': (['Comedy'], 'Release Date Not Found'), 'Searchers, The': (['Drama', 'Western'], 'Release Date Not Found'), 'Indiana Jones and the Raiders of the Lost Ark': (['Action', 'Adventure'], 'Release Date Not Found'), 'Spider Man': ([''], 'Release Date Not Found'), 'Copycat': (['Crime', 'Horror', 'Mystery', 'Thriller'], 'Release Date Not Found'), 'Bad Country': (['Action', 'Crime', 'Drama'], 'April 2014'), 'Syriana': (['Drama', 'Thriller'], 'December 2005'), '15 Minutes': (['Action', 'Crime', 'Thriller'], 'Release Date Not Found'), 'Shallow Grave': (['Comedy', 'Crime', 'Drama', 'Thriller'], 'February 1995'), 'Rushmore': (['Comedy', 'Romance'], 'Release Date Not Found'), 'Silence of the Lambs': (['Crime', 'Drama', 'Horror', 'Thriller'], 'Release Date Not Found'), 'Descendants, The': (['Comedy', 'Drama'], 'December 2011'), 'American Shaolin: King of Kickboxers II': (['Action'], 'Release Date Not Found'), 'Drive Angry': (['Action', 'Crime', 'Fantasy'], 'February 2011'), \"Jacob's Ladder\": (['Drama', 'Thriller'], 'Release Date Not Found'), 'Drive': (['Action', 'Crime', 'Drama'], 'September 2011'), 'Pretty Woman': (['Comedy', 'Romance'], 'Release Date Not Found'), 'Martian, The': (['Adventure', 'Drama', 'Sci-Fi'], 'October 2015'), 'English Patient, The': (['Drama', 'Romance'], 'Release Date Not Found'), 'Hannah and Her Sisters': (['Comedy', 'Drama', 'Romance'], 'Release Date Not Found'), 'Ghost and the Darkness, The': (['Action', 'Adventure', 'Drama', 'Thriller'], 'Release Date Not Found'), 'Neverending Story, The': (['Fantasy', 'Adventure', 'Family'], 'Release Date Not Found'), 'Red Planet': (['Action', 'Sci-Fi', 'Thriller'], 'Release Date Not Found'), 'Youth in Revolt': (['Comedy', 'Drama', 'Romance'], 'January 2010'), 'Change Up, The': ([''], 'Release Date Not Found'), 'Ugly Truth, The': (['Comedy', 'Romance'], 'July 2009'), \"All the King's Men\": (['Drama'], 'November 1949'), 'Mask, The': (['Action', 'Comedy', 'Crime', 'Drama', 'Fantasy', 'Romance'], 'July 1994'), \"Mini's First Time\": (['Comedy', 'Crime', 'Drama'], 'June 2006'), '2012': (['Action', 'Adventure', 'Drama', 'Sci-Fi', 'Thriller'], 'November 2009'), 'Midnight Cowboy': (['Drama'], 'Release Date Not Found'), 'Dog Day Afternoon': (['Comedy', 'Drama', 'Thriller'], 'Release Date Not Found'), 'Walking Tall': (['Action', 'Drama', 'Thriller'], 'April 2004'), 'Starman': (['Adventure', 'Drama', 'Romance', 'Sci-Fi'], 'December 1984'), 'Great Gatsby, The': (['Drama', 'Romance'], 'May 2013'), 'Sweet Hereafter, The': (['Drama'], 'Release Date Not Found')}\n"
          ],
          "name": "stdout"
        }
      ]
    }
  ]
}