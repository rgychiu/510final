{
  "nbformat": 4,
  "nbformat_minor": 0,
  "metadata": {
    "colab": {
      "name": "similarity_calculation.ipynb",
      "provenance": [],
      "collapsed_sections": []
    },
    "kernelspec": {
      "display_name": "Python 3",
      "name": "python3"
    },
    "language_info": {
      "name": "python"
    }
  },
  "cells": [
    {
      "cell_type": "code",
      "metadata": {
        "id": "2aetnFG6-LQe"
      },
      "source": [
        "from sklearn.feature_extraction.text import CountVectorizer\n",
        "import numpy as np\n",
        "import re\n",
        "import string\n",
        "import os\n",
        "import pickle\n",
        "import nltk\n",
        "from tqdm import tqdm\n",
        "from nltk.corpus import stopwords\n",
        "from nltk.tokenize import word_tokenize\n",
        "from sklearn.metrics.pairwise import cosine_similarity"
      ],
      "execution_count": 3,
      "outputs": []
    },
    {
      "cell_type": "code",
      "metadata": {
        "colab": {
          "base_uri": "https://localhost:8080/"
        },
        "id": "tOudmCSjCMtM",
        "outputId": "1857e58a-c410-44b4-be42-9977f9f15eaa"
      },
      "source": [
        "nltk.download('vader_lexicon')\n",
        "nltk.download('stopwords')\n",
        "nltk.download('punkt')\n",
        "from nltk.sentiment.vader import SentimentIntensityAnalyzer"
      ],
      "execution_count": 4,
      "outputs": [
        {
          "output_type": "stream",
          "text": [
            "[nltk_data] Downloading package vader_lexicon to /root/nltk_data...\n",
            "[nltk_data] Downloading package stopwords to /root/nltk_data...\n",
            "[nltk_data]   Unzipping corpora/stopwords.zip.\n",
            "[nltk_data] Downloading package punkt to /root/nltk_data...\n",
            "[nltk_data]   Unzipping tokenizers/punkt.zip.\n"
          ],
          "name": "stdout"
        },
        {
          "output_type": "stream",
          "text": [
            "/usr/local/lib/python3.7/dist-packages/nltk/twitter/__init__.py:20: UserWarning: The twython library has not been installed. Some functionality from the twitter package will not be available.\n",
            "  warnings.warn(\"The twython library has not been installed. \"\n"
          ],
          "name": "stderr"
        }
      ]
    },
    {
      "cell_type": "code",
      "metadata": {
        "colab": {
          "base_uri": "https://localhost:8080/"
        },
        "id": "Xqbs8Xov-R6W",
        "outputId": "70a57bcc-5230-4473-b3b8-2faedb43c96b"
      },
      "source": [
        "import os\n",
        "from google.colab import drive\n",
        "drive.mount('/content/drive')"
      ],
      "execution_count": 5,
      "outputs": [
        {
          "output_type": "stream",
          "text": [
            "Mounted at /content/drive\n"
          ],
          "name": "stdout"
        }
      ]
    },
    {
      "cell_type": "code",
      "metadata": {
        "id": "JUtIWk7n-Td7"
      },
      "source": [
        "os.chdir(\"/content/drive/My Drive/Colab Notebooks/scripts\")"
      ],
      "execution_count": 6,
      "outputs": []
    },
    {
      "cell_type": "code",
      "metadata": {
        "id": "8NyF_jGL-Va8"
      },
      "source": [
        "def clean_text(script_list):\n",
        "  cleaned_text = []\n",
        "  for script in tqdm(script_list):\n",
        "    script_tokens = word_tokenize(script)\n",
        "    cleaned_movie = \"\"\n",
        "    \n",
        "    for word in script_tokens:\n",
        "      if word not in string.punctuation and word not in stopwords.words():\n",
        "            cleaned_movie += word\n",
        "            cleaned_movie += \" \"\n",
        "    cleaned_text.append(cleaned_movie)\n",
        "    \n",
        "  return cleaned_text"
      ],
      "execution_count": 5,
      "outputs": []
    },
    {
      "cell_type": "code",
      "metadata": {
        "id": "SwejVpLu-Xq7"
      },
      "source": [
        "def bag_of_words(text_data, stop_list = None, max_doc_freq = 1.0):\n",
        "    cv = CountVectorizer(stop_words = stop_list, max_df = max_doc_freq)\n",
        "    bow = cv.fit_transform(text_data)\n",
        "    words = cv.get_feature_names()\n",
        "    return bow, words"
      ],
      "execution_count": 6,
      "outputs": []
    },
    {
      "cell_type": "code",
      "metadata": {
        "id": "HKTclsWd-aHK"
      },
      "source": [
        "def get_relevant_documents(query_title, n = 10, mdf = 1.0):\n",
        "    # titles, script_text = create_corpus()\n",
        "    # cleaned_scripts = clean_text(script_text)\n",
        "\n",
        "    title_idx = movie_titles.index(query_title.lower())\n",
        "    if (title_idx == -1):\n",
        "        return []\n",
        "\n",
        "    bow, words = bag_of_words(cleaned_scripts, max_doc_freq = mdf)\n",
        "    vector_space = bow.toarray()/np.sum(bow.toarray(), axis = 0)\n",
        "\n",
        "    query = np.zeros(len(vector_space[0]))\n",
        "    query_script = cleaned_scripts[title_idx]\n",
        "    for word in query_script.split():\n",
        "        if word in words:\n",
        "            query[words.index(word)] += 1\n",
        "    query /= np.sum(bow.toarray(), axis = 0)\n",
        "\n",
        "\n",
        "    similarity = np.zeros(len(vector_space))\n",
        "    for i, row in enumerate(vector_space):\n",
        "        similarity[i] = cosine_similarity(row.reshape(1,-1), query.reshape(1,-1))\n",
        "        similarity[i] += cosine_similarity(movie_sentiment[i].reshape(1, -1), movie_sentiment[title_idx].reshape(1, -1))\n",
        "\n",
        "    weighted_similarity = similarity / np.sort(similarity)[::-1][0]\n",
        "    top_n_movies = [movie_titles[idx] for idx in np.argsort(weighted_similarity)[::-1][1:n+1]]\n",
        "\n",
        "    return top_n_movies"
      ],
      "execution_count": 7,
      "outputs": []
    },
    {
      "cell_type": "markdown",
      "metadata": {
        "id": "pYGfAevl-nKU"
      },
      "source": [
        "Load Movies"
      ]
    },
    {
      "cell_type": "code",
      "metadata": {
        "id": "pmheX7k7-pCa"
      },
      "source": [
        "movie_scripts = []\n",
        "movie_titles = []\n",
        "for file_name in os.listdir():\n",
        "  with open(file_name, \"r\") as movie_script:\n",
        "    movie_scripts.append(movie_script.read())\n",
        "    movie_titles.append(file_name[:-4].lower())"
      ],
      "execution_count": 8,
      "outputs": []
    },
    {
      "cell_type": "code",
      "metadata": {
        "colab": {
          "base_uri": "https://localhost:8080/"
        },
        "id": "hoJTVGkwH0YR",
        "outputId": "c8811a3a-be75-49c9-eaf4-6b8ef4eb0c3b"
      },
      "source": [
        "cleaned_scripts = clean_text(movie_scripts)\n"
      ],
      "execution_count": 9,
      "outputs": [
        {
          "output_type": "stream",
          "text": [
            "100%|██████████| 95/95 [2:02:20<00:00, 77.27s/it]\n"
          ],
          "name": "stderr"
        }
      ]
    },
    {
      "cell_type": "markdown",
      "metadata": {
        "id": "EAsNuZnWBwIr"
      },
      "source": [
        "Sentiment Analysis"
      ]
    },
    {
      "cell_type": "code",
      "metadata": {
        "colab": {
          "base_uri": "https://localhost:8080/"
        },
        "id": "GUkM4bKoBz_D",
        "outputId": "201d4511-3f2a-4ed9-eb10-22f32cccbc66"
      },
      "source": [
        "sentiment_analyzer = SentimentIntensityAnalyzer()\n",
        "movie_sentiment = []\n",
        "for title, script in tqdm(zip(movie_titles, cleaned_scripts)):\n",
        "  sentiment_dict = sentiment_analyzer.polarity_scores(script)\n",
        "  sentiment_vector = np.array([sentiment_dict['neg'], sentiment_dict['neu'], sentiment_dict['pos']])  # negative, neutral, positive\n",
        "  movie_sentiment.append(sentiment_vector)"
      ],
      "execution_count": 10,
      "outputs": [
        {
          "output_type": "stream",
          "text": [
            "95it [01:33,  1.02it/s]\n"
          ],
          "name": "stderr"
        }
      ]
    },
    {
      "cell_type": "markdown",
      "metadata": {
        "id": "J0Mhuu_XQVhU"
      },
      "source": [
        "Get recommendations and save"
      ]
    },
    {
      "cell_type": "code",
      "metadata": {
        "colab": {
          "base_uri": "https://localhost:8080/"
        },
        "id": "nvUyy27pLYrQ",
        "outputId": "7be3ad75-21f2-4e91-bba6-74f0132b53a7"
      },
      "source": [
        "rec_dict = {}\n",
        "for title in tqdm(movie_titles):\n",
        "  rec_dict[title] = get_relevant_documents(title, 5)\n",
        "\n",
        "with open('rec_dict_final.pickle', 'wb') as handle:\n",
        "    pickle.dump(rec_dict, handle)"
      ],
      "execution_count": 11,
      "outputs": [
        {
          "output_type": "stream",
          "text": [
            "  3%|▎         | 3/95 [00:45<22:57, 14.97s/it]/usr/local/lib/python3.7/dist-packages/ipykernel_launcher.py:25: RuntimeWarning: invalid value encountered in true_divide\n",
            "  7%|▋         | 7/95 [02:00<30:12, 20.60s/it]/usr/local/lib/python3.7/dist-packages/ipykernel_launcher.py:25: RuntimeWarning: invalid value encountered in true_divide\n",
            "  8%|▊         | 8/95 [02:02<21:29, 14.82s/it]/usr/local/lib/python3.7/dist-packages/ipykernel_launcher.py:25: RuntimeWarning: invalid value encountered in true_divide\n",
            " 31%|███       | 29/95 [08:31<20:06, 18.28s/it]/usr/local/lib/python3.7/dist-packages/ipykernel_launcher.py:25: RuntimeWarning: invalid value encountered in true_divide\n",
            " 42%|████▏     | 40/95 [11:25<15:43, 17.15s/it]/usr/local/lib/python3.7/dist-packages/ipykernel_launcher.py:25: RuntimeWarning: invalid value encountered in true_divide\n",
            " 63%|██████▎   | 60/95 [17:14<11:11, 19.20s/it]/usr/local/lib/python3.7/dist-packages/ipykernel_launcher.py:25: RuntimeWarning: invalid value encountered in true_divide\n",
            " 71%|███████   | 67/95 [19:13<08:46, 18.79s/it]/usr/local/lib/python3.7/dist-packages/ipykernel_launcher.py:25: RuntimeWarning: invalid value encountered in true_divide\n",
            " 77%|███████▋  | 73/95 [20:53<06:52, 18.75s/it]/usr/local/lib/python3.7/dist-packages/ipykernel_launcher.py:25: RuntimeWarning: invalid value encountered in true_divide\n",
            "100%|██████████| 95/95 [26:50<00:00, 16.96s/it]\n"
          ],
          "name": "stderr"
        }
      ]
    },
    {
      "cell_type": "code",
      "metadata": {
        "colab": {
          "base_uri": "https://localhost:8080/"
        },
        "id": "AxstVgmwi_Q1",
        "outputId": "559691fa-eca0-4b3c-d8d5-5b09420c090f"
      },
      "source": [
        "with open('rec_dict_final.pickle', 'rb') as handle:\n",
        "    rec_dict = pickle.load(handle)\n",
        "    print(rec_dict)"
      ],
      "execution_count": 7,
      "outputs": [
        {
          "output_type": "stream",
          "text": [
            "{'honeydripper': ['sweet-smell-of-success', 'passion-of-joan-of-arc,-the', 'christ-complex', \"all-the-king's-men\", 'wag-the-dog'], 'colombiana': ['mud', 'sweet-hereafter,-the', 'avengers,-the', 'syriana', 'law-abiding-citizen'], 'addams-family,-the': ['life-as-a-house', 'syriana', 'law-abiding-citizen', 'man-on-the-moon', 'funny-people'], 'mighty-morphin-power-rangers:-the-movie': ['elephant-man,-the', 'guardians-of-the-galaxy-vol-2', 'innerspace', 'american-milkshake', 'man-on-the-moon'], 'above-the-law': ['life-as-a-house', 'deer-hunter,-the', 'law-abiding-citizen', 'colombiana', 'syriana'], 'law-abiding-citizen': ['spider-man', 'life-as-a-house', 'above-the-law', 'indiana-jones-and-the-raiders-of-the-lost-ark', 'syriana'], 'sweet-smell-of-success': [\"all-the-king's-men\", 'backdraft', 'drive', 'christ-complex', 'bringing-out-the-dead'], 'omega-man': ['elephant-man,-the', 'guardians-of-the-galaxy-vol-2', 'innerspace', 'american-milkshake', 'man-on-the-moon'], 'star-wars:-the-phantom-menace': ['elephant-man,-the', 'guardians-of-the-galaxy-vol-2', 'innerspace', 'american-milkshake', 'man-on-the-moon'], 'semi-pro': ['wonder-woman', 'ghost-and-the-darkness,-the', 'neverending-story,-the', 'walking-tall', 'bringing-out-the-dead'], 'wrestler,-the': ['funny-people', 'descendants,-the', 'guardians-of-the-galaxy-vol-2', 'youth-in-revolt', 'real-genius'], 'black-rain': ['mud', 'indiana-jones-and-the-raiders-of-the-lost-ark', 'law-abiding-citizen', 'colombiana', 'executive-decision'], 'lake-placid': ['funny-people', 'boondock-saints,-the', 'sweet-hereafter,-the', 'silence-of-the-lambs', 'fifth-element,-the'], 'meet-joe-black': ['sweet-smell-of-success', 'rocky-horror-picture-show,-the', 'drive', 'american-shaolin:-king-of-kickboxers-ii', 'backdraft'], 'white-ribbon,-the': ['sweet-smell-of-success', 'moonrise-kingdom', 'i-spit-on-your-grave', 'drive', 'avengers,-the'], 'troy': ['law-abiding-citizen', 'avengers,-the', 'silence-of-the-lambs', 'sweet-hereafter,-the', 'lake-placid'], 'i-spit-on-your-grave': ['rocky-horror-picture-show,-the', 'white-ribbon,-the', 'sweet-smell-of-success', 'silence-of-the-lambs', 'law-abiding-citizen'], 'passion-of-joan-of-arc,-the': ['indiana-jones-and-the-raiders-of-the-lost-ark', 'funny-people', 'analyze-that', 'law-abiding-citizen', 'mud'], 'executive-decision': ['law-abiding-citizen', 'avengers,-the', 'boondock-saints,-the', 'cincinnati-kid,-the', 'funny-people'], 'mud': ['colombiana', 'passion-of-joan-of-arc,-the', 'analyze-that', 'avengers,-the', 'wag-the-dog'], 'three-kings': ['highlander', 'indiana-jones-and-the-raiders-of-the-lost-ark', 'syriana', 'copycat', 'silence-of-the-lambs'], 'deer-hunter,-the': ['life-as-a-house', 'above-the-law', 'avengers,-the', 'law-abiding-citizen', 'ugly-truth,-the'], 'boondock-saints,-the': ['avengers,-the', 'silence-of-the-lambs', 'white-ribbon,-the', 'joker', 'sweet-hereafter,-the'], 'fifth-element,-the': ['boondock-saints,-the', 'silence-of-the-lambs', 'syriana', 'ugly-truth,-the', 'avengers,-the'], 'wonder-woman': ['semi-pro', 'youth-in-revolt', 'wrestler,-the', 'six-degrees-of-separation', 'law-abiding-citizen'], 'guardians-of-the-galaxy-vol-2': ['sweet-smell-of-success', 'drive', 'american-milkshake', 'mask,-the', \"all-the-king's-men\"], 'innerspace': ['ghost-and-the-darkness,-the', 'drive', 'neverending-story,-the', 'guardians-of-the-galaxy-vol-2', 'semi-pro'], 'american-milkshake': ['guardians-of-the-galaxy-vol-2', 'neverending-story,-the', 'joker', 'walking-tall', 'bean'], 'man-on-the-moon': ['avengers,-the', 'drive', 'deer-hunter,-the', 'white-ribbon,-the', 'bringing-out-the-dead'], 'no-strings-attached': ['elephant-man,-the', 'guardians-of-the-galaxy-vol-2', 'innerspace', 'american-milkshake', 'man-on-the-moon'], 'joker': ['boondock-saints,-the', 'bringing-out-the-dead', 'red-planet', 'sweet-smell-of-success', 'elephant-man,-the'], 'rocky-horror-picture-show,-the': ['sweet-smell-of-success', 'avengers,-the', 'silence-of-the-lambs', \"all-the-king's-men\", 'white-ribbon,-the'], 'platoon': ['funny-people', 'ugly-truth,-the', 'avengers,-the', 'fifth-element,-the', 'silence-of-the-lambs'], 'iron-lady,-the': ['neverending-story,-the', 'american-milkshake', 'ghost-and-the-darkness,-the', 'i-spit-on-your-grave', 'bringing-out-the-dead'], 'elephant-man,-the': ['joker', 'rocky-horror-picture-show,-the', 'hannah-and-her-sisters', 'drive', 'funny-people'], 'croods,-the': ['boondock-saints,-the', 'funny-people', 'sweet-hereafter,-the', 'syriana', 'avengers,-the'], 'christ-complex': ['sweet-smell-of-success', 'change-up,-the', \"all-the-king's-men\", 'backdraft', 'rocky-horror-picture-show,-the'], 'six-degrees-of-separation': ['indiana-jones-and-the-raiders-of-the-lost-ark', 'syriana', 'sweet-smell-of-success', 'silence-of-the-lambs', 'copycat'], 'highlander': ['three-kings', 'silence-of-the-lambs', 'mask,-the', 'syriana', 'copycat'], 'cincinnati-kid,-the': ['feast', 'syriana', 'executive-decision', 'law-abiding-citizen', 'sweet-hereafter,-the'], 'deep-cover': ['elephant-man,-the', 'guardians-of-the-galaxy-vol-2', 'innerspace', 'american-milkshake', 'man-on-the-moon'], 'analyze-that': ['passion-of-joan-of-arc,-the', 'ugly-truth,-the', 'funny-people', 'mud', '2012'], 'bringing-out-the-dead': ['sweet-smell-of-success', 'drive', 'rocky-horror-picture-show,-the', 'youth-in-revolt', 'syriana'], 'sixth-sense,-the': ['drive', 'backdraft', 'bringing-out-the-dead', 'feast', 'funny-people'], 'ghost-ship': ['bringing-out-the-dead', 'silence-of-the-lambs', 'wonder-woman', 'guardians-of-the-galaxy-vol-2', 'rocky-horror-picture-show,-the'], 'bean': ['ghost-and-the-darkness,-the', 'drive', 'american-milkshake', 'neverending-story,-the', 'walking-tall'], '12-and-holding': ['ugly-truth,-the', 'fifth-element,-the', 'wonder-woman', '15-minutes', 'passion-of-joan-of-arc,-the'], 'south-park': ['silence-of-the-lambs', 'deer-hunter,-the', 'sixth-sense,-the', 'ghost-and-the-darkness,-the', 'american-milkshake'], 'funny-people': ['passion-of-joan-of-arc,-the', 'syriana', 'avengers,-the', '2012', 'colombiana'], 'fruitvale-station': ['indiana-jones-and-the-raiders-of-the-lost-ark', 'six-degrees-of-separation', 'law-abiding-citizen', 'passion-of-joan-of-arc,-the', 'hannah-and-her-sisters'], 'feast': ['copycat', 'law-abiding-citizen', 'cincinnati-kid,-the', 'backdraft', 'real-genius'], 'moonrise-kingdom': ['wag-the-dog', 'syriana', 'white-ribbon,-the', 'funny-people', 'avengers,-the'], 'gone-baby-gone': ['starman', 'christ-complex', 'honeydripper', 'passion-of-joan-of-arc,-the', 'change-up,-the'], 'backdraft': ['sweet-smell-of-success', 'youth-in-revolt', \"all-the-king's-men\", 'colombiana', 'hannah-and-her-sisters'], 'true-grit': ['funny-people', 'mask,-the', 'drive-angry', 'christ-complex', 'spider-man'], 'life-as-a-house': ['above-the-law', 'deer-hunter,-the', 'law-abiding-citizen', 'spider-man', 'avengers,-the'], 'taxi-driver': ['taxi-driver', 'martian,-the', 'starman', 'passion-of-joan-of-arc,-the', 'mud'], 'wag-the-dog': ['moonrise-kingdom', 'sweet-smell-of-success', 'passion-of-joan-of-arc,-the', 'funny-people', 'avengers,-the'], 'avengers,-the': ['ugly-truth,-the', 'boondock-saints,-the', 'colombiana', 'syriana', 'rocky-horror-picture-show,-the'], 'real-genius': ['backdraft', 'life-as-a-house', \"all-the-king's-men\", 'syriana', 'wrestler,-the'], 'searchers,-the': ['elephant-man,-the', 'guardians-of-the-galaxy-vol-2', 'innerspace', 'american-milkshake', 'man-on-the-moon'], 'indiana-jones-and-the-raiders-of-the-lost-ark': ['passion-of-joan-of-arc,-the', 'law-abiding-citizen', 'mask,-the', 'six-degrees-of-separation', 'wag-the-dog'], 'spider-man': ['law-abiding-citizen', 'life-as-a-house', 'drive-angry', 'descendants,-the', 'colombiana'], 'copycat': ['feast', 'law-abiding-citizen', 'colombiana', 'three-kings', 'mask,-the'], 'bad-country': ['drive', 'real-genius', 'sweet-smell-of-success', 'syriana', 'six-degrees-of-separation'], 'syriana': ['silence-of-the-lambs', 'law-abiding-citizen', 'funny-people', 'avengers,-the', \"all-the-king's-men\"], '15-minutes': ['descendants,-the', 'change-up,-the', 'drive', 'bringing-out-the-dead', 'colombiana'], 'shallow-grave': ['elephant-man,-the', 'guardians-of-the-galaxy-vol-2', 'innerspace', 'american-milkshake', 'man-on-the-moon'], 'rushmore': ['syriana', 'sweet-hereafter,-the', 'silence-of-the-lambs', 'feast', 'troy'], 'silence-of-the-lambs': ['syriana', 'boondock-saints,-the', 'fifth-element,-the', 'avengers,-the', 'rocky-horror-picture-show,-the'], 'descendants,-the': ['law-abiding-citizen', 'passion-of-joan-of-arc,-the', 'great-gatsby,-the', 'sweet-hereafter,-the', 'spider-man'], 'american-shaolin:-king-of-kickboxers-ii': ['drive', 'sweet-smell-of-success', 'rocky-horror-picture-show,-the', 'christ-complex', \"all-the-king's-men\"], 'drive-angry': ['law-abiding-citizen', 'ugly-truth,-the', 'spider-man', '2012', 'real-genius'], \"jacob's-ladder\": ['elephant-man,-the', 'guardians-of-the-galaxy-vol-2', 'innerspace', 'american-milkshake', 'man-on-the-moon'], 'drive': ['sweet-smell-of-success', \"all-the-king's-men\", 'american-shaolin:-king-of-kickboxers-ii', 'white-ribbon,-the', 'hannah-and-her-sisters'], 'pretty-woman': ['i-spit-on-your-grave', 'rushmore', 'silence-of-the-lambs', 'three-kings', 'guardians-of-the-galaxy-vol-2'], 'martian,-the': [\"mini's-first-time\", 'english-patient,-the', 'taxi-driver', 'starman', 'passion-of-joan-of-arc,-the'], 'english-patient,-the': ['taxi-driver', 'martian,-the', 'starman', 'passion-of-joan-of-arc,-the', 'mud'], 'hannah-and-her-sisters': ['drive', 'rocky-horror-picture-show,-the', '2012', 'change-up,-the', 'backdraft'], 'ghost-and-the-darkness,-the': ['bean', 'semi-pro', 'neverending-story,-the', 'american-shaolin:-king-of-kickboxers-ii', 'iron-lady,-the'], 'neverending-story,-the': ['iron-lady,-the', 'american-milkshake', 'drive', 'semi-pro', 'bean'], 'red-planet': ['sweet-smell-of-success', 'mask,-the', 'white-ribbon,-the', 'spider-man', 'joker'], 'youth-in-revolt': ['backdraft', 'bringing-out-the-dead', 'life-as-a-house', 'avengers,-the', 'colombiana'], 'change-up,-the': ['christ-complex', 'hannah-and-her-sisters', 'sweet-smell-of-success', '15-minutes', 'descendants,-the'], 'ugly-truth,-the': ['analyze-that', 'drive-angry', 'platoon', 'avengers,-the', 'deer-hunter,-the'], \"all-the-king's-men\": ['sweet-smell-of-success', 'rocky-horror-picture-show,-the', 'drive', 'syriana', 'backdraft'], 'mask,-the': ['sweet-smell-of-success', 'backdraft', 'indiana-jones-and-the-raiders-of-the-lost-ark', 'silence-of-the-lambs', 'white-ribbon,-the'], \"mini's-first-time\": ['sixth-sense,-the', 'sweet-smell-of-success', 'honeydripper', 'colombiana', \"all-the-king's-men\"], '2012': ['passion-of-joan-of-arc,-the', 'funny-people', 'analyze-that', 'hannah-and-her-sisters', 'ugly-truth,-the'], 'midnight-cowboy': ['life-as-a-house', 'sweet-smell-of-success', 'law-abiding-citizen', 'christ-complex', 'descendants,-the'], 'dog-day-afternoon': ['sweet-smell-of-success', 'red-planet', 'copycat', 'white-ribbon,-the', \"all-the-king's-men\"], 'walking-tall': ['american-milkshake', 'semi-pro', 'neverending-story,-the', 'bean', 'ghost-and-the-darkness,-the'], 'starman': ['starman', 'martian,-the', 'gone-baby-gone', 'neverending-story,-the', 'english-patient,-the'], 'great-gatsby,-the': ['descendants,-the', 'law-abiding-citizen', 'life-as-a-house', 'spider-man', 'avengers,-the'], 'sweet-hereafter,-the': ['colombiana', 'boondock-saints,-the', 'law-abiding-citizen', 'copycat', 'silence-of-the-lambs']}\n"
          ],
          "name": "stdout"
        }
      ]
    }
  ]
}